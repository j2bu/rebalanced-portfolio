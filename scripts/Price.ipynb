{
 "cells": [
  {
   "cell_type": "markdown",
   "metadata": {
    "toc": true
   },
   "source": [
    "<h1>Table of Contents<span class=\"tocSkip\"></span></h1>\n",
    "<div class=\"toc\"><ul class=\"toc-item\"><li><span><a href=\"#导入数据\" data-toc-modified-id=\"导入数据-1\"><span class=\"toc-item-num\">1&nbsp;&nbsp;</span>导入数据</a></span><ul class=\"toc-item\"><li><span><a href=\"#分析\" data-toc-modified-id=\"分析-1.1\"><span class=\"toc-item-num\">1.1&nbsp;&nbsp;</span>分析</a></span><ul class=\"toc-item\"><li><span><a href=\"#获取交易日日期\" data-toc-modified-id=\"获取交易日日期-1.1.1\"><span class=\"toc-item-num\">1.1.1&nbsp;&nbsp;</span>获取交易日日期</a></span></li></ul></li></ul></li></ul></div>"
   ]
  },
  {
   "cell_type": "code",
   "execution_count": 2,
   "metadata": {},
   "outputs": [],
   "source": [
    "import matplotlib as mpl\n",
    "import matplotlib.pyplot as plt\n",
    "mpl.rcParams['font.sans-serif']=['SimHei'] #用来正常显示中文标签\n",
    "mpl.rcParams['axes.unicode_minus']=False #用来正常显示负号\n",
    "import seaborn as sns\n",
    "import numpy as np\n",
    "import pandas as pd\n",
    "from itertools import combinations,combinations_with_replacement\n",
    "from collections import OrderedDict\n",
    "\n",
    "import os,time,datetime,sys\n",
    "\n",
    "import requests\n",
    "import os\n",
    "from lxml import etree\n",
    "from urllib import parse\n",
    "import urllib\n",
    "\n",
    "\n",
    "from IPython.core.display import display, HTML\n",
    "\n",
    "pd.set_option('display.max_rows',None)"
   ]
  },
  {
   "cell_type": "markdown",
   "metadata": {},
   "source": [
    "# 导入数据"
   ]
  },
  {
   "cell_type": "code",
   "execution_count": 5,
   "metadata": {},
   "outputs": [],
   "source": [
    "price_data = pd.read_csv(\"D:/news/i_Metrix_prices.csv\")"
   ]
  },
  {
   "cell_type": "markdown",
   "metadata": {},
   "source": [
    "## 分析"
   ]
  },
  {
   "cell_type": "code",
   "execution_count": 6,
   "metadata": {},
   "outputs": [
    {
     "data": {
      "text/plain": [
       "(105864354, 9)"
      ]
     },
     "execution_count": 6,
     "metadata": {},
     "output_type": "execute_result"
    }
   ],
   "source": [
    "price_data.shape"
   ]
  },
  {
   "cell_type": "code",
   "execution_count": 7,
   "metadata": {},
   "outputs": [
    {
     "data": {
      "text/html": [
       "<div>\n",
       "<style scoped>\n",
       "    .dataframe tbody tr th:only-of-type {\n",
       "        vertical-align: middle;\n",
       "    }\n",
       "\n",
       "    .dataframe tbody tr th {\n",
       "        vertical-align: top;\n",
       "    }\n",
       "\n",
       "    .dataframe thead th {\n",
       "        text-align: right;\n",
       "    }\n",
       "</style>\n",
       "<table border=\"1\" class=\"dataframe\">\n",
       "  <thead>\n",
       "    <tr style=\"text-align: right;\">\n",
       "      <th></th>\n",
       "      <th>pSP_CUSIP</th>\n",
       "      <th>pSP_EXCHANGE</th>\n",
       "      <th>pSP_TICKER</th>\n",
       "      <th>pSP_DATE</th>\n",
       "      <th>pSP_VOLUME</th>\n",
       "      <th>pSP_OPEN</th>\n",
       "      <th>pSP_HIGH</th>\n",
       "      <th>pSP_LOW</th>\n",
       "      <th>pSP_CLOSE</th>\n",
       "    </tr>\n",
       "  </thead>\n",
       "  <tbody>\n",
       "    <tr>\n",
       "      <th>0</th>\n",
       "      <td>013817101</td>\n",
       "      <td>N</td>\n",
       "      <td>AA</td>\n",
       "      <td>1996-01-02</td>\n",
       "      <td>2808000</td>\n",
       "      <td>13.1250</td>\n",
       "      <td>13.6875</td>\n",
       "      <td>13.0625</td>\n",
       "      <td>13.5938</td>\n",
       "    </tr>\n",
       "    <tr>\n",
       "      <th>1</th>\n",
       "      <td>013817101</td>\n",
       "      <td>N</td>\n",
       "      <td>AA</td>\n",
       "      <td>1996-01-03</td>\n",
       "      <td>5008800</td>\n",
       "      <td>13.5312</td>\n",
       "      <td>13.8438</td>\n",
       "      <td>13.5000</td>\n",
       "      <td>13.8125</td>\n",
       "    </tr>\n",
       "    <tr>\n",
       "      <th>2</th>\n",
       "      <td>013817101</td>\n",
       "      <td>N</td>\n",
       "      <td>AA</td>\n",
       "      <td>1996-01-04</td>\n",
       "      <td>4276000</td>\n",
       "      <td>13.7188</td>\n",
       "      <td>13.9375</td>\n",
       "      <td>13.5938</td>\n",
       "      <td>13.9375</td>\n",
       "    </tr>\n",
       "    <tr>\n",
       "      <th>3</th>\n",
       "      <td>013817101</td>\n",
       "      <td>N</td>\n",
       "      <td>AA</td>\n",
       "      <td>1996-01-05</td>\n",
       "      <td>2618400</td>\n",
       "      <td>13.8750</td>\n",
       "      <td>14.1250</td>\n",
       "      <td>13.8125</td>\n",
       "      <td>13.8438</td>\n",
       "    </tr>\n",
       "    <tr>\n",
       "      <th>4</th>\n",
       "      <td>013817101</td>\n",
       "      <td>N</td>\n",
       "      <td>AA</td>\n",
       "      <td>1996-01-08</td>\n",
       "      <td>3471200</td>\n",
       "      <td>13.7812</td>\n",
       "      <td>13.8750</td>\n",
       "      <td>12.8125</td>\n",
       "      <td>13.0938</td>\n",
       "    </tr>\n",
       "  </tbody>\n",
       "</table>\n",
       "</div>"
      ],
      "text/plain": [
       "   pSP_CUSIP pSP_EXCHANGE pSP_TICKER    pSP_DATE  pSP_VOLUME  pSP_OPEN  \\\n",
       "0  013817101       N          AA      1996-01-02     2808000   13.1250   \n",
       "1  013817101       N          AA      1996-01-03     5008800   13.5312   \n",
       "2  013817101       N          AA      1996-01-04     4276000   13.7188   \n",
       "3  013817101       N          AA      1996-01-05     2618400   13.8750   \n",
       "4  013817101       N          AA      1996-01-08     3471200   13.7812   \n",
       "\n",
       "   pSP_HIGH  pSP_LOW  pSP_CLOSE  \n",
       "0   13.6875  13.0625    13.5938  \n",
       "1   13.8438  13.5000    13.8125  \n",
       "2   13.9375  13.5938    13.9375  \n",
       "3   14.1250  13.8125    13.8438  \n",
       "4   13.8750  12.8125    13.0938  "
      ]
     },
     "execution_count": 7,
     "metadata": {},
     "output_type": "execute_result"
    }
   ],
   "source": [
    "price_data.head()"
   ]
  },
  {
   "cell_type": "code",
   "execution_count": 11,
   "metadata": {},
   "outputs": [
    {
     "data": {
      "text/plain": [
       "array(['N     ', 'PK', 'OB', 'O', 'N', 'OS', 'A', 'MF', 'MF    ',\n",
       "       'PK    ', 'O     ', 'OB    ', 'OS    ', 'A     ', 'JEREMY'],\n",
       "      dtype=object)"
      ]
     },
     "execution_count": 11,
     "metadata": {},
     "output_type": "execute_result"
    },
    {
     "data": {
      "text/plain": [
       "15"
      ]
     },
     "execution_count": 11,
     "metadata": {},
     "output_type": "execute_result"
    }
   ],
   "source": [
    "price_data.pSP_EXCHANGE.unique()\n",
    "len(price_data.pSP_EXCHANGE.unique())"
   ]
  },
  {
   "cell_type": "code",
   "execution_count": 8,
   "metadata": {},
   "outputs": [
    {
     "ename": "SyntaxError",
     "evalue": "invalid syntax (<ipython-input-8-4fdfa2a2ad88>, line 1)",
     "output_type": "error",
     "traceback": [
      "\u001b[1;36m  File \u001b[1;32m\"<ipython-input-8-4fdfa2a2ad88>\"\u001b[1;36m, line \u001b[1;32m1\u001b[0m\n\u001b[1;33m    pSP_CUSIP: identifer for each security\u001b[0m\n\u001b[1;37m                           ^\u001b[0m\n\u001b[1;31mSyntaxError\u001b[0m\u001b[1;31m:\u001b[0m invalid syntax\n"
     ]
    }
   ],
   "source": [
    "pSP_CUSIP: identifer for each security\n",
    "pSP_EXCHANGE：exchange on which the security is traded 证券被交易的交易所 这里有15个交易所\n",
    "pSP_TICKER: identifer for each security\n",
    "pSP_DATE: date which the price data corresponds\n",
    "pSP_VOLUME: volume of the security\n",
    "pSP_OPEN: opening price of the security\n",
    "pSP_HIGH: high price of the security\n",
    "pSP_LOW: low price of the security\n",
    "pSP_CLOSE: closing price of the security\n",
    "\n",
    "\n",
    "问题一：\n",
    "数据量太大，我们是否要选取其中的一段时间，而不是全部？\n",
    "选那一段时间呢？\n",
    "\n",
    "问题二：\n",
    "# pSP_CUSIP: identifer for each security\n",
    "# pSP_TICKER: identifer for each security\n",
    "\n",
    "pSP_CUSIP & pSP_TICKER 这2个变量对应不起来：(CUSIP Number 对应 公司/股票 的名称---不是全能对应上； 此二者的个数也是，不相等)\n",
    "013817101 --- AA  yes\n",
    "338487101 --- FLMP  yes\n",
    "01881G106 --- AB  yes\n",
    "# 30283W203 --- CHAQ.U no\n",
    "# 36352H100 --- AGG.IV no\n",
    "887080109 --- TMBR  yes\n",
    "\n",
    "问题三：\n",
    "Is 'pSP_EXCHANGE' the exact place (exchange) that each stock is traded?\n",
    "\n",
    "问题四：\n",
    "# What's the unit of 'pSP_VOLUME'?\n"
   ]
  },
  {
   "cell_type": "code",
   "execution_count": null,
   "metadata": {},
   "outputs": [],
   "source": []
  },
  {
   "cell_type": "code",
   "execution_count": 7,
   "metadata": {},
   "outputs": [
    {
     "data": {
      "text/plain": [
       "array(['013817101', '338487101', '01881G106', ..., '30283W203',\n",
       "       '36352H100', '887080109'], dtype=object)"
      ]
     },
     "execution_count": 7,
     "metadata": {},
     "output_type": "execute_result"
    }
   ],
   "source": [
    "price_data.pSP_CUSIP.unique()\n",
    "\n",
    "# CUSIP No. 30283W203\n"
   ]
  },
  {
   "cell_type": "code",
   "execution_count": 9,
   "metadata": {},
   "outputs": [
    {
     "data": {
      "text/plain": [
       "43407"
      ]
     },
     "execution_count": 9,
     "metadata": {},
     "output_type": "execute_result"
    }
   ],
   "source": [
    "len(price_data.pSP_CUSIP.unique())"
   ]
  },
  {
   "cell_type": "code",
   "execution_count": 8,
   "metadata": {
    "scrolled": true
   },
   "outputs": [
    {
     "data": {
      "text/plain": [
       "array(['AA    ', 'FLMP', 'AB    ', ..., 'CHAQ.U', 'AGG.IV', 'TMBR'],\n",
       "      dtype=object)"
      ]
     },
     "execution_count": 8,
     "metadata": {},
     "output_type": "execute_result"
    }
   ],
   "source": [
    "price_data.pSP_TICKER.unique()"
   ]
  },
  {
   "cell_type": "code",
   "execution_count": 10,
   "metadata": {},
   "outputs": [
    {
     "data": {
      "text/plain": [
       "50988"
      ]
     },
     "execution_count": 10,
     "metadata": {},
     "output_type": "execute_result"
    }
   ],
   "source": [
    "len(price_data.pSP_TICKER.unique())"
   ]
  },
  {
   "cell_type": "code",
   "execution_count": 20,
   "metadata": {},
   "outputs": [],
   "source": [
    "aa = price_data.pSP_DATE[0]"
   ]
  },
  {
   "cell_type": "code",
   "execution_count": null,
   "metadata": {},
   "outputs": [],
   "source": []
  },
  {
   "cell_type": "code",
   "execution_count": null,
   "metadata": {},
   "outputs": [],
   "source": [
    "重复数据"
   ]
  },
  {
   "cell_type": "code",
   "execution_count": 33,
   "metadata": {},
   "outputs": [],
   "source": [
    "part_price = price_data[price_data.pSP_DATE>='2010-01-01']"
   ]
  },
  {
   "cell_type": "code",
   "execution_count": 34,
   "metadata": {},
   "outputs": [
    {
     "data": {
      "text/plain": [
       "51162751"
      ]
     },
     "execution_count": 34,
     "metadata": {},
     "output_type": "execute_result"
    }
   ],
   "source": [
    "len(part_price)"
   ]
  },
  {
   "cell_type": "code",
   "execution_count": 1,
   "metadata": {},
   "outputs": [
    {
     "ename": "NameError",
     "evalue": "name 'part_price' is not defined",
     "output_type": "error",
     "traceback": [
      "\u001b[1;31m---------------------------------------------------------------------------\u001b[0m",
      "\u001b[1;31mNameError\u001b[0m                                 Traceback (most recent call last)",
      "\u001b[1;32m<ipython-input-1-0eac15bfff50>\u001b[0m in \u001b[0;36m<module>\u001b[1;34m()\u001b[0m\n\u001b[1;32m----> 1\u001b[1;33m \u001b[0mpart_price\u001b[0m\u001b[1;33m.\u001b[0m\u001b[0mduplicated\u001b[0m\u001b[1;33m(\u001b[0m\u001b[1;33m)\u001b[0m\u001b[1;33m\u001b[0m\u001b[0m\n\u001b[0m",
      "\u001b[1;31mNameError\u001b[0m: name 'part_price' is not defined"
     ]
    }
   ],
   "source": [
    "part_price.duplicated()"
   ]
  },
  {
   "cell_type": "code",
   "execution_count": null,
   "metadata": {},
   "outputs": [],
   "source": []
  },
  {
   "cell_type": "code",
   "execution_count": null,
   "metadata": {},
   "outputs": [],
   "source": []
  },
  {
   "cell_type": "markdown",
   "metadata": {},
   "source": [
    "### 获取交易日日期"
   ]
  },
  {
   "cell_type": "code",
   "execution_count": 4,
   "metadata": {},
   "outputs": [
    {
     "data": {
      "text/plain": [
       "DatetimeIndex(['2022-09-01', '2022-09-02', '2022-09-06', '2022-09-07',\n",
       "               '2022-09-08', '2022-09-09', '2022-09-12', '2022-09-13',\n",
       "               '2022-09-14', '2022-09-15', '2022-09-16', '2022-09-19',\n",
       "               '2022-09-20', '2022-09-21', '2022-09-22', '2022-09-23',\n",
       "               '2022-09-26', '2022-09-27', '2022-09-28', '2022-09-29',\n",
       "               '2022-09-30', '2022-10-03', '2022-10-04', '2022-10-05',\n",
       "               '2022-10-06', '2022-10-07'],\n",
       "              dtype='datetime64[ns]', freq='C')"
      ]
     },
     "execution_count": 4,
     "metadata": {},
     "output_type": "execute_result"
    }
   ],
   "source": [
    "from pandas.tseries.holiday import USFederalHolidayCalendar\n",
    "from pandas.tseries.offsets import CustomBusinessDay\n",
    "\n",
    "us_bd = CustomBusinessDay(calendar=USFederalHolidayCalendar())\n",
    "pd.DatetimeIndex(start='2022-09-01',end='2022-10-10', freq=us_bd)"
   ]
  },
  {
   "cell_type": "code",
   "execution_count": null,
   "metadata": {},
   "outputs": [],
   "source": []
  },
  {
   "cell_type": "code",
   "execution_count": 5,
   "metadata": {},
   "outputs": [
    {
     "data": {
      "text/plain": [
       "Timestamp('2022-04-22 00:00:00', freq='C')"
      ]
     },
     "execution_count": 5,
     "metadata": {},
     "output_type": "execute_result"
    }
   ],
   "source": [
    "trade_date = pd.DatetimeIndex(start= '2021-01-04',end= '2022-04-22', freq=us_bd)\n",
    "# date_list1 = [x.strftime('%Y-%m-%d') for x in date_list]\n",
    "trade_date[0]\n",
    "trade_date[-1]"
   ]
  },
  {
   "cell_type": "code",
   "execution_count": 6,
   "metadata": {},
   "outputs": [
    {
     "data": {
      "text/plain": [
       "Timestamp('2021-01-04 00:00:00', freq='C')"
      ]
     },
     "execution_count": 6,
     "metadata": {},
     "output_type": "execute_result"
    }
   ],
   "source": [
    "trade_date[0]"
   ]
  },
  {
   "cell_type": "code",
   "execution_count": 7,
   "metadata": {},
   "outputs": [
    {
     "data": {
      "text/plain": [
       "328"
      ]
     },
     "execution_count": 7,
     "metadata": {},
     "output_type": "execute_result"
    }
   ],
   "source": [
    "len(trade_date)"
   ]
  },
  {
   "cell_type": "code",
   "execution_count": null,
   "metadata": {},
   "outputs": [],
   "source": []
  },
  {
   "cell_type": "code",
   "execution_count": 25,
   "metadata": {},
   "outputs": [
    {
     "data": {
      "text/plain": [
       "'1996-01-02'"
      ]
     },
     "execution_count": 25,
     "metadata": {},
     "output_type": "execute_result"
    },
    {
     "data": {
      "text/plain": [
       "'2020-05-29'"
      ]
     },
     "execution_count": 25,
     "metadata": {},
     "output_type": "execute_result"
    },
    {
     "data": {
      "text/plain": [
       "'1996-01-02'"
      ]
     },
     "execution_count": 25,
     "metadata": {},
     "output_type": "execute_result"
    },
    {
     "data": {
      "text/plain": [
       "'2020-05-29'"
      ]
     },
     "execution_count": 25,
     "metadata": {},
     "output_type": "execute_result"
    }
   ],
   "source": [
    "price_data.pSP_DATE.min()\n",
    "price_data.pSP_DATE.max()\n",
    "date_list = pd.DatetimeIndex(start= price_data.pSP_DATE.min(),end= price_data.pSP_DATE.max(), freq=us_bd)\n",
    "date_list1 = [x.strftime('%Y-%m-%d') for x in date_list]\n",
    "date_list1[0]\n",
    "date_list1[-1]"
   ]
  },
  {
   "cell_type": "code",
   "execution_count": 26,
   "metadata": {},
   "outputs": [
    {
     "data": {
      "text/plain": [
       "6126"
      ]
     },
     "execution_count": 26,
     "metadata": {},
     "output_type": "execute_result"
    }
   ],
   "source": [
    "len(date_list1)"
   ]
  },
  {
   "cell_type": "code",
   "execution_count": 27,
   "metadata": {},
   "outputs": [
    {
     "data": {
      "text/plain": [
       "6315"
      ]
     },
     "execution_count": 27,
     "metadata": {},
     "output_type": "execute_result"
    }
   ],
   "source": [
    "len(price_data.pSP_DATE.unique())"
   ]
  },
  {
   "cell_type": "code",
   "execution_count": 28,
   "metadata": {},
   "outputs": [
    {
     "data": {
      "text/plain": [
       "189"
      ]
     },
     "execution_count": 28,
     "metadata": {},
     "output_type": "execute_result"
    }
   ],
   "source": [
    "6315-6126\n",
    "# 有 189 个不在交易日的数据"
   ]
  },
  {
   "cell_type": "code",
   "execution_count": null,
   "metadata": {},
   "outputs": [],
   "source": [
    "怎么处理不在交易日的数据"
   ]
  },
  {
   "cell_type": "code",
   "execution_count": 21,
   "metadata": {},
   "outputs": [
    {
     "data": {
      "text/plain": [
       "Timestamp('1996-01-02 00:00:00')"
      ]
     },
     "execution_count": 21,
     "metadata": {},
     "output_type": "execute_result"
    }
   ],
   "source": [
    "b = pd.to_datetime(aa)\n",
    "b"
   ]
  },
  {
   "cell_type": "code",
   "execution_count": null,
   "metadata": {},
   "outputs": [],
   "source": []
  },
  {
   "cell_type": "code",
   "execution_count": null,
   "metadata": {},
   "outputs": [],
   "source": []
  },
  {
   "cell_type": "code",
   "execution_count": null,
   "metadata": {},
   "outputs": [],
   "source": []
  }
 ],
 "metadata": {
  "kernelspec": {
   "display_name": "Python 3",
   "language": "python",
   "name": "python3"
  },
  "language_info": {
   "codemirror_mode": {
    "name": "ipython",
    "version": 3
   },
   "file_extension": ".py",
   "mimetype": "text/x-python",
   "name": "python",
   "nbconvert_exporter": "python",
   "pygments_lexer": "ipython3",
   "version": "3.7.0"
  },
  "toc": {
   "base_numbering": 1,
   "nav_menu": {},
   "number_sections": true,
   "sideBar": true,
   "skip_h1_title": false,
   "title_cell": "Table of Contents",
   "title_sidebar": "Contents",
   "toc_cell": true,
   "toc_position": {},
   "toc_section_display": true,
   "toc_window_display": true
  }
 },
 "nbformat": 4,
 "nbformat_minor": 2
}
